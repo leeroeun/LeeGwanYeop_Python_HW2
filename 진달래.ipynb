{
 "cells": [
  {
   "cell_type": "code",
   "execution_count": 1,
   "id": "bf231a26",
   "metadata": {},
   "outputs": [],
   "source": [
    "def isStackFull():\n",
    "    global SIZE, stack,top\n",
    "    if (top>= SIZE-1):\n",
    "        return True\n",
    "    else:\n",
    "        return False"
   ]
  },
  {
   "cell_type": "code",
   "execution_count": 2,
   "id": "d1052569",
   "metadata": {},
   "outputs": [],
   "source": [
    "def push(data):\n",
    "    global SIZE, stack,top\n",
    "    if (isStackFull()==True):\n",
    "        print(\"스택이 꽉 찼습니다.\")\n",
    "        return\n",
    "    top+=1\n",
    "    stack[top]=data"
   ]
  },
  {
   "cell_type": "code",
   "execution_count": 3,
   "id": "17d4e0a1",
   "metadata": {},
   "outputs": [],
   "source": [
    "def push_noStackFull(data):\n",
    "    global SIZE, stack,top\n",
    "    if top>=SIZE-1:\n",
    "        print(\"스택이 꽉 찼습니다.\")\n",
    "        return\n",
    "    top+=1\n",
    "    stack[top]=data"
   ]
  },
  {
   "cell_type": "code",
   "execution_count": 4,
   "id": "a2fe4b92",
   "metadata": {},
   "outputs": [],
   "source": [
    "def isStackEmpty():\n",
    "    global SIZE, stack,top\n",
    "    if (top== -1):\n",
    "        return True\n",
    "    else:\n",
    "        return False"
   ]
  },
  {
   "cell_type": "code",
   "execution_count": 5,
   "id": "69c90cad",
   "metadata": {},
   "outputs": [],
   "source": [
    "def pop():\n",
    "    global SIZE, stack,top\n",
    "    if (isStackEmpty()==True):\n",
    "        print(\"스택이 비었습니다.\")\n",
    "        return\n",
    "    data=stack[top]\n",
    "    stack[top]=None\n",
    "    top-=1\n",
    "    return data"
   ]
  },
  {
   "cell_type": "code",
   "execution_count": 6,
   "id": "65f1a07d",
   "metadata": {},
   "outputs": [],
   "source": [
    "def peak():\n",
    "    global SIZE, stack,top\n",
    "    if (top== -1):\n",
    "        print(\"스택이 비었습니다.\")\n",
    "        return None\n",
    "    return stack[top]"
   ]
  },
  {
   "cell_type": "code",
   "execution_count": 7,
   "id": "179159a3",
   "metadata": {},
   "outputs": [
    {
     "name": "stdout",
     "output_type": "stream",
     "text": [
      "----원본----\n",
      "진달래꽃\n",
      "나 보기가 역겨워\n",
      "가실 때에는 \n",
      "말없이 고이 보내드리오리다.\n"
     ]
    }
   ],
   "source": [
    "print(\"----원본----\")\n",
    "print(\"\"\"진달래꽃\n",
    "나 보기가 역겨워\n",
    "가실 때에는 \n",
    "말없이 고이 보내드리오리다.\"\"\")"
   ]
  },
  {
   "cell_type": "code",
   "execution_count": 8,
   "id": "cbcf3ce7",
   "metadata": {},
   "outputs": [],
   "source": [
    "original=\"\"\"진달래꽃\n",
    "나 보기가 역겨워\n",
    "가실 때에는\n",
    "말없이 고이 보내드리오리다.\"\"\""
   ]
  },
  {
   "cell_type": "code",
   "execution_count": 9,
   "id": "0d9dfc64",
   "metadata": {},
   "outputs": [],
   "source": [
    "SIZE=len(original)\n",
    "stack=[None for _ in range(SIZE)]\n",
    "top=-1\n",
    "for ch in original:\n",
    "    push(ch)"
   ]
  },
  {
   "cell_type": "code",
   "execution_count": 10,
   "id": "a6f4bd9e",
   "metadata": {},
   "outputs": [
    {
     "name": "stdout",
     "output_type": "stream",
     "text": [
      "거꾸로 처리된 결과:\n",
      ".다리오리드내보 이고 이없말\n",
      "는에때 실가\n",
      "워겨역 가기보 나\n",
      "꽃래달진"
     ]
    }
   ],
   "source": [
    "print(\"거꾸로 처리된 결과:\")\n",
    "for _ in range(SIZE):\n",
    "    print(pop(),end=\"\")"
   ]
  },
  {
   "cell_type": "code",
   "execution_count": null,
   "id": "ca5cde7c",
   "metadata": {},
   "outputs": [],
   "source": []
  }
 ],
 "metadata": {
  "kernelspec": {
   "display_name": "Python 3 (ipykernel)",
   "language": "python",
   "name": "python3"
  },
  "language_info": {
   "codemirror_mode": {
    "name": "ipython",
    "version": 3
   },
   "file_extension": ".py",
   "mimetype": "text/x-python",
   "name": "python",
   "nbconvert_exporter": "python",
   "pygments_lexer": "ipython3",
   "version": "3.9.12"
  }
 },
 "nbformat": 4,
 "nbformat_minor": 5
}
