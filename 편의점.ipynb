{
 "cells": [
  {
   "cell_type": "code",
   "execution_count": 7,
   "id": "5c7c9223",
   "metadata": {},
   "outputs": [],
   "source": [
    "class Node():\n",
    "    def __init__(self):\n",
    "        self.data=None\n",
    "        self.link=None"
   ]
  },
  {
   "cell_type": "code",
   "execution_count": 8,
   "id": "b7b7338f",
   "metadata": {},
   "outputs": [],
   "source": [
    "def printNodes(start):\n",
    "    current=start\n",
    "    if current==None:\n",
    "        return\n",
    "    print(current.data,end=\"\")\n",
    "    while current.link!=start:\n",
    "        current=current.link\n",
    "        print(current.data,end=\"\")\n",
    "    print()"
   ]
  },
  {
   "cell_type": "code",
   "execution_count": 9,
   "id": "f4a02092",
   "metadata": {},
   "outputs": [],
   "source": [
    "def insertNode(findData,insertData):\n",
    "    global memory,head,current,pre\n",
    "    if head.data==findData:\n",
    "        node=Node()\n",
    "        node.data=insertData\n",
    "        node.link=head\n",
    "        last=head\n",
    "        while last.link!=head:\n",
    "            last=last.link\n",
    "        last.link=node\n",
    "        head=node\n",
    "        return\n",
    "    \n",
    "    current=head\n",
    "    while current.link!=head:\n",
    "        pre=current\n",
    "        current=current.link\n",
    "        if current.data==findData:\n",
    "            node=Node()\n",
    "            node.data=insertData\n",
    "            pre.link=node\n",
    "            node.link=current\n",
    "            return\n",
    "        \n",
    "    node=Node()\n",
    "    node.data=insertData\n",
    "    current.link=node\n",
    "    node.link=head"
   ]
  },
  {
   "cell_type": "code",
   "execution_count": 10,
   "id": "773d60f2",
   "metadata": {},
   "outputs": [],
   "source": [
    "def deleteNode(deleteData):\n",
    "    global memory,head,current,pre\n",
    "    if head.data==deleteData:\n",
    "        current=head\n",
    "        head=head.link\n",
    "        del(current)\n",
    "        last=head\n",
    "        while last.link!=head:\n",
    "            last=last.link\n",
    "        last.link=head\n",
    "        return\n",
    "    current=head\n",
    "    while current.link!=head:\n",
    "        pre=current\n",
    "        current=current.link\n",
    "        if current.data==deleteData:\n",
    "            pre.link=current.link\n",
    "            del(current)\n",
    "            return"
   ]
  },
  {
   "cell_type": "code",
   "execution_count": 11,
   "id": "6cd61451",
   "metadata": {},
   "outputs": [],
   "source": [
    "def findNode(findData):\n",
    "    global memory, head, current, pre\n",
    "    current=head\n",
    "    if current.data==findData:\n",
    "        return current\n",
    "    while current.link!=head:\n",
    "        current=current.link\n",
    "        if current.data==findData:\n",
    "            return current\n",
    "    return Node()"
   ]
  },
  {
   "cell_type": "code",
   "execution_count": 12,
   "id": "a689f08c",
   "metadata": {},
   "outputs": [
    {
     "name": "stdout",
     "output_type": "stream",
     "text": [
      "A 편의점, 거리:8.544004\n",
      "F 편의점, 거리:38.327536\n",
      "E 편의점, 거리:54.037024\n",
      "G 편의점, 거리:66.648331\n",
      "H 편의점, 거리:72.013888\n",
      "B 편의점, 거리:72.732386\n",
      "C 편의점, 거리:77.698134\n",
      "I 편의점, 거리:91.197588\n",
      "D 편의점, 거리:92.849340\n",
      "J 편의점, 거리:114.978259\n"
     ]
    }
   ],
   "source": [
    "import random, math\n",
    "memory=[]\n",
    "dataArray=[_ for i in range(10)]\n",
    "dataArray[0]=(\"A\",random.randint(1,100),random.randint(1,100))\n",
    "dataArray[1]=(\"B\",random.randint(1,100),random.randint(1,100))\n",
    "dataArray[2]=(\"C\",random.randint(1,100),random.randint(1,100))\n",
    "dataArray[3]=(\"D\",random.randint(1,100),random.randint(1,100))\n",
    "dataArray[4]=(\"E\",random.randint(1,100),random.randint(1,100))\n",
    "dataArray[5]=(\"F\",random.randint(1,100),random.randint(1,100))\n",
    "dataArray[6]=(\"G\",random.randint(1,100),random.randint(1,100))\n",
    "dataArray[7]=(\"H\",random.randint(1,100),random.randint(1,100))\n",
    "dataArray[8]=(\"I\",random.randint(1,100),random.randint(1,100))\n",
    "dataArray[9]=(\"J\",random.randint(1,100),random.randint(1,100))\n",
    "\n",
    "if __name__==\"__main__\":\n",
    "    def store(data,head):\n",
    "        node=Node()\n",
    "        node.data=data\n",
    "        if math.sqrt(head.data[1]**2+head.data[2]**2)>math.sqrt(data[1]**2+data[2]**2):\n",
    "            node.link=head\n",
    "            last=head\n",
    "            while last.link!=head:\n",
    "                last=last.link\n",
    "            last.link=node\n",
    "            head=node\n",
    "            return head\n",
    "        current=head\n",
    "        while current.link!=head:\n",
    "            pre=current\n",
    "            current=current.link\n",
    "            if math.sqrt(current.data[1]**2+current.data[2]**2)>math.sqrt(data[1]**2+data[2]**2):\n",
    "                node.link=current\n",
    "                pre.link=node\n",
    "                return head\n",
    "        current.link=node\n",
    "        node.link=head\n",
    "        return head\n",
    "\n",
    "head=Node()\n",
    "head.data=dataArray[0]\n",
    "head.link=head\n",
    "for i in range(1,10):\n",
    "    head=store(dataArray[i],head)\n",
    "current=head\n",
    "while current.link!=head:\n",
    "    print(\"%s 편의점, 거리:%f\"%(current.data[0],math.sqrt(current.data[1]**2+current.data[2]**2)))\n",
    "    current=current.link\n",
    "print(\"%s 편의점, 거리:%f\"%(current.data[0],math.sqrt(current.data[1]**2+current.data[2]**2)))"
   ]
  },
  {
   "cell_type": "code",
   "execution_count": null,
   "id": "d7651084",
   "metadata": {},
   "outputs": [],
   "source": []
  }
 ],
 "metadata": {
  "kernelspec": {
   "display_name": "Python 3 (ipykernel)",
   "language": "python",
   "name": "python3"
  },
  "language_info": {
   "codemirror_mode": {
    "name": "ipython",
    "version": 3
   },
   "file_extension": ".py",
   "mimetype": "text/x-python",
   "name": "python",
   "nbconvert_exporter": "python",
   "pygments_lexer": "ipython3",
   "version": "3.9.12"
  }
 },
 "nbformat": 4,
 "nbformat_minor": 5
}
