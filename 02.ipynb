{
 "cells": [
  {
   "cell_type": "code",
   "execution_count": 2,
   "id": "405cea26",
   "metadata": {},
   "outputs": [
    {
     "name": "stdout",
     "output_type": "stream",
     "text": [
      "** 로또 번호 생성을 시작합니다. **\n",
      "몇 번을 뽑을까요?1\n",
      "자동번호-->   5  7 21 23 38 44 \n"
     ]
    }
   ],
   "source": [
    "import random\n",
    "\n",
    "totalLotto = []\n",
    "lotto = []\n",
    "pickNum = 0\n",
    "count = 0\n",
    "\n",
    "print(\"** 로또 번호 생성을 시작합니다. **\")\n",
    "count = int(input('몇 번을 뽑을까요?'))\n",
    "\n",
    "for _ in range(count) :\n",
    "    lotto = []\n",
    "    while True :\n",
    "        pickNum = random.randint(1, 45)\n",
    "        if pickNum not in lotto :\n",
    "            lotto.append(pickNum)\n",
    "        if len(lotto) >= 6 :\n",
    "            break\n",
    "    totalLotto.append(lotto)\n",
    "\n",
    "for lotto in totalLotto :\n",
    "    lotto.sort()\n",
    "    print('자동번호--> ', end = ' ')\n",
    "    for i in range(0, 6) :\n",
    "        print(\"%2d\" % lotto[i], end = ' ')\n",
    "    print()"
   ]
  }
 ],
 "metadata": {
  "kernelspec": {
   "display_name": "Python 3 (ipykernel)",
   "language": "python",
   "name": "python3"
  },
  "language_info": {
   "codemirror_mode": {
    "name": "ipython",
    "version": 3
   },
   "file_extension": ".py",
   "mimetype": "text/x-python",
   "name": "python",
   "nbconvert_exporter": "python",
   "pygments_lexer": "ipython3",
   "version": "3.9.12"
  }
 },
 "nbformat": 4,
 "nbformat_minor": 5
}
